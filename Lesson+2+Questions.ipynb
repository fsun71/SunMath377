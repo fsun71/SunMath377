{
 "cells": [
  {
   "cell_type": "markdown",
   "metadata": {},
   "source": [
    "# Lesson 2\n",
    "\n",
    "1) Data science is the application of statistics to find solutions to problems by analyzing datasets\n",
    "\n",
    "2) The three parts of the course are Prediction, Inference, and Exploration\n",
    "\n",
    "3) N/A (datascience package install)\n",
    "\n",
    "4) See Following 3 Inputs below\n",
    "\n"
   ]
  },
  {
   "cell_type": "code",
   "execution_count": 2,
   "metadata": {},
   "outputs": [
    {
     "data": {
      "text/plain": [
       "2"
      ]
     },
     "execution_count": 2,
     "metadata": {},
     "output_type": "execute_result"
    }
   ],
   "source": [
    "1+1"
   ]
  },
  {
   "cell_type": "code",
   "execution_count": 4,
   "metadata": {},
   "outputs": [
    {
     "data": {
      "text/plain": [
       "21"
      ]
     },
     "execution_count": 4,
     "metadata": {},
     "output_type": "execute_result"
    }
   ],
   "source": [
    "3*7"
   ]
  },
  {
   "cell_type": "code",
   "execution_count": 7,
   "metadata": {},
   "outputs": [
    {
     "data": {
      "text/plain": [
       "38.0"
      ]
     },
     "execution_count": 7,
     "metadata": {},
     "output_type": "execute_result"
    }
   ],
   "source": [
    "114/3"
   ]
  },
  {
   "cell_type": "markdown",
   "metadata": {},
   "source": [
    "5) See line below"
   ]
  },
  {
   "cell_type": "code",
   "execution_count": 32,
   "metadata": {},
   "outputs": [
    {
     "name": "stdout",
     "output_type": "stream",
     "text": [
      "Franklin Sun 👍\n"
     ]
    }
   ],
   "source": [
    "print('Franklin Sun \\U0001F44D')"
   ]
  },
  {
   "cell_type": "markdown",
   "metadata": {},
   "source": [
    "6) High ice cream sales do not necessarily indicate higher levels of crime, as there are likely other confounding factors that influence both ice cream sales and crime in play (correlation does not necessarily indicate causation). A potential factor could be higher summer temperatures leading to both civil unrest and a desire for ice cream. \n",
    "\n",
    "7) An observational study compares one or more groups with the general population that already exist in the natural environment, while an experiment has a control group and a study group established by the researchers. An observational may be used for a situation that could be considered unethical to create study and control groups for, such as a study on the impact of alcohol consumption on fetal development. However, an experiment can serve to minimize confounding factors, which are far more present in observational studies"
   ]
  },
  {
   "cell_type": "code",
   "execution_count": null,
   "metadata": {
    "collapsed": true
   },
   "outputs": [],
   "source": []
  }
 ],
 "metadata": {
  "kernelspec": {
   "display_name": "Python 3",
   "language": "python",
   "name": "python3"
  },
  "language_info": {
   "codemirror_mode": {
    "name": "ipython",
    "version": 3
   },
   "file_extension": ".py",
   "mimetype": "text/x-python",
   "name": "python",
   "nbconvert_exporter": "python",
   "pygments_lexer": "ipython3",
   "version": "3.6.3"
  }
 },
 "nbformat": 4,
 "nbformat_minor": 2
}
