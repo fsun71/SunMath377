{
 "cells": [
  {
   "cell_type": "markdown",
   "metadata": {},
   "source": [
    "# Lesson 5 Questions"
   ]
  },
  {
   "cell_type": "code",
   "execution_count": 2,
   "metadata": {
    "collapsed": true
   },
   "outputs": [],
   "source": [
    "import numpy as np\n",
    "from datascience import *\n",
    "%matplotlib inline\n",
    "import matplotlib.pyplot as plots\n",
    "plots.style.use('fivethirtyeight')\n",
    "import warnings\n",
    "warnings.simplefilter(action='ignore', category=FutureWarning)\n",
    "\n",
    "#Here we are importing necessary libraries"
   ]
  },
  {
   "cell_type": "code",
   "execution_count": 83,
   "metadata": {},
   "outputs": [
    {
     "name": "stdout",
     "output_type": "stream",
     "text": [
      "[['ALPHA' 'BRAVO' 'CHARLIE' 'DELTA']]\n",
      "[[2 1 1 1]]\n",
      "[[5 5 7 5]]\n"
     ]
    }
   ],
   "source": [
    "#Question 1\n",
    "\n",
    "#PART A\n",
    "\n",
    "#An array of strings is defined, then each element is changed to upper changes and displayed\n",
    "q1=make_array(['Alpha','Bravo','Charlie','Delta'])\n",
    "q1_Upper=np.char.upper(q1)\n",
    "print(q1_Upper)\n",
    "\n",
    "#PART B\n",
    "\n",
    "#The number of times the character 'a' appears in each element of the array, and is printed in the form of an array\n",
    "q1_aCount=np.char.count(q1_Upper,'A')\n",
    "print(q1_aCount)\n",
    "\n",
    "#PART C\n",
    "\n",
    "#The len() function is vectorized, and applied to all elements of the array. The length of each element in the array is printed\n",
    "lengthCalc=np.vectorize(len)\n",
    "print(lengthCalc(q1))"
   ]
  },
  {
   "cell_type": "code",
   "execution_count": 3,
   "metadata": {},
   "outputs": [
    {
     "name": "stdout",
     "output_type": "stream",
     "text": [
      "[ 1  5  9 13 17 21 25 29 33 37 41]\n",
      "Sum is: 231\n",
      "Product is: 7.57986742013e+12\n",
      "[ 0.          1.60943791  2.19722458  2.56494936  2.83321334  3.04452244\n",
      "  3.21887582  3.36729583  3.49650756  3.61091791  3.71357207]\n"
     ]
    }
   ],
   "source": [
    "#Question 2\n",
    "\n",
    "#Array is defined as every other odd number from 1 to 41 inclusive\n",
    "oddArr=np.arange(1,42,4)\n",
    "print(oddArr)\n",
    "\n",
    "#PART A\n",
    "\n",
    "#Sum of array is found using np.sum()\n",
    "oddSum=np.sum(oddArr)\n",
    "print('Sum is: '+str(oddSum))\n",
    "\n",
    "\n",
    "#Product of array is found using np.prod(), needed to convert to float due to max integer issues\n",
    "oddFloat=oddArr.astype(float)\n",
    "oddProd=np.prod(oddFloat)\n",
    "print('Product is: '+str(oddProd))\n",
    "\n",
    "#PART B\n",
    "\n",
    "#The natural log of each element in the array is found using np.log()\n",
    "oddLn=np.log(oddArr)\n",
    "print(oddLn)\n"
   ]
  },
  {
   "cell_type": "code",
   "execution_count": null,
   "metadata": {
    "collapsed": true
   },
   "outputs": [],
   "source": []
  }
 ],
 "metadata": {
  "kernelspec": {
   "display_name": "Python 3",
   "language": "python",
   "name": "python3"
  },
  "language_info": {
   "codemirror_mode": {
    "name": "ipython",
    "version": 3
   },
   "file_extension": ".py",
   "mimetype": "text/x-python",
   "name": "python",
   "nbconvert_exporter": "python",
   "pygments_lexer": "ipython3",
   "version": "3.6.3"
  }
 },
 "nbformat": 4,
 "nbformat_minor": 2
}
