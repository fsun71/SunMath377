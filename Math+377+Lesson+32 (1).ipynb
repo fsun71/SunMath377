{
 "cells": [
  {
   "cell_type": "code",
   "execution_count": 2,
   "metadata": {},
   "outputs": [],
   "source": [
    "from datascience import *\n",
    "import numpy as np\n",
    "from math import *\n",
    "from scipy import stats\n",
    "import matplotlib.pyplot as plt\n",
    "%matplotlib inline"
   ]
  },
  {
   "cell_type": "markdown",
   "metadata": {},
   "source": [
    "## Lesson 32: Likelihood Ratio Tests"
   ]
  },
  {
   "cell_type": "markdown",
   "metadata": {},
   "source": [
    "Last time, we introduced Likelihood Ratio tests. Recall that the point of a likelihood ratio test is to compare the likelihood function under a hypothesized value of the parameter with the liklihood function at its maximum. Instead of looking at the ratio $\\Lambda$ itself, we often consider $-2\\log \\Lambda$ instead, since it has a handy distribution. \n",
    "\n",
    "### Example 1: Exponential Distribution\n",
    "\n",
    "Suppose $X_1,X_2,...,X_n$ is an iid sequence of random variables from the exponential distribution with unknown parameter $\\lambda$. Recall that the maximum likelihood estimate of $\\lambda$ is $1\\over\\bar{X}$. We collect a random sample of size 20 and want to test the hypothesis $H_0: \\lambda = 3$ vs $H_1: \\lambda \\neq 3$. Using the data in the python box below, conduct a likelihood ratio test on this hypothesis.  "
   ]
  },
  {
   "cell_type": "code",
   "execution_count": 23,
   "metadata": {},
   "outputs": [],
   "source": [
    "my_data=np.array([0.18,0.277,0.105,0.126,0.225,0.026,0.123,0.423,0.006,0.281,0.050,0.692,0.105,0.275,0.346,0.079,0.045,0.222,0.063,0.281])"
   ]
  },
  {
   "cell_type": "code",
   "execution_count": 11,
   "metadata": {},
   "outputs": [
    {
     "data": {
      "text/plain": [
       "4.7204284116613637"
      ]
     },
     "execution_count": 11,
     "metadata": {},
     "output_type": "execute_result"
    }
   ],
   "source": [
    "1/np.mean(my_data)\n",
    "np.sum(my_data)\n",
    "\n",
    "(3**20*exp(3*(-3.93)))/(5.089**20*exp(5.089*(-3.93)))\n",
    "\n",
    "-2*np.log(0.0944)"
   ]
  },
  {
   "cell_type": "markdown",
   "metadata": {},
   "source": [
    "$$\\Lambda=\\frac{{\\lambda_0}^{n}e^{\\lambda_0\\Sigma X_i}}{{\\lambda_{MLE}}^{n}e^{\\lambda_{MLE}\\Sigma X_i}}$$\n",
    "\n",
    "$$=\\frac{3^{20}e^{-3.93*3}}{5.089^{20}e^{-3.93*5.089}}$$\n",
    "\n",
    "$$\\Lambda=0.0944$$\n",
    "\n",
    "$$-2\\log(\\Lambda)=4.72$$"
   ]
  },
  {
   "cell_type": "markdown",
   "metadata": {},
   "source": [
    "#### Power\n",
    "\n",
    "Suppose that the true value of $\\lambda$ is 5. Let's determine the power of this test. Let $n=20$. Then determine the power if $n=50$. Remember, power is the probability of correctly rejecting the null hypothesis. "
   ]
  },
  {
   "cell_type": "markdown",
   "metadata": {},
   "source": [
    "First, find what value of $-2 \\log \\Lambda$ would lead you to reject $H_0$. This is sometimes called the critical value. "
   ]
  },
  {
   "cell_type": "code",
   "execution_count": 31,
   "metadata": {},
   "outputs": [
    {
     "name": "stdout",
     "output_type": "stream",
     "text": [
      "Finding the p-value:\n",
      "0.0298137431406\n"
     ]
    },
    {
     "data": {
      "text/plain": [
       "3.8414588206941236"
      ]
     },
     "execution_count": 31,
     "metadata": {},
     "output_type": "execute_result"
    }
   ],
   "source": [
    "print('Finding the p-value:')\n",
    "print(1-stats.chi2.cdf(4.72,df=1))\n",
    "\n",
    "stats.chi2.ppf(0.95,df=1)"
   ]
  },
  {
   "cell_type": "markdown",
   "metadata": {},
   "source": [
    "Next, obtain the power. Obtain a sample of size 20 from the true population and obtain the value of $-2\\log \\Lambda$ for this sample. Repeat many times and determine how often you reject the null hypothesis. "
   ]
  },
  {
   "cell_type": "code",
   "execution_count": 61,
   "metadata": {},
   "outputs": [
    {
     "data": {
      "text/plain": [
       "0.60229999999999995"
      ]
     },
     "execution_count": 61,
     "metadata": {},
     "output_type": "execute_result"
    }
   ],
   "source": [
    "n=20\n",
    "lam0=3\n",
    "crit=3.84145\n",
    "\n",
    "ts=[]\n",
    "\n",
    "\n",
    "\n",
    "for i in np.arange(10000):\n",
    "    sample=stats.expon.rvs(scale=1/5,size=n)\n",
    "    lambdaMle=1/np.mean(sample)\n",
    "    sumsample=np.sum(sample)\n",
    "    test_stat=(lam0**n*exp(lam0*(-sumsample)))/(lambdaMle**n*exp(lambdaMle*(-sumsample)))\n",
    "    ts=np.append(ts,-2*np.log(test_stat))\n",
    "    \n",
    "np.mean(ts>=crit)"
   ]
  },
  {
   "cell_type": "markdown",
   "metadata": {},
   "source": [
    "Repeat for a sample size of 50. What do you expect to happen to power? "
   ]
  },
  {
   "cell_type": "markdown",
   "metadata": {},
   "source": [
    "The increase in sample size increased the power from apprximately 0.60 to 0.95, as expected"
   ]
  },
  {
   "cell_type": "markdown",
   "metadata": {},
   "source": [
    "### A Different Test\n",
    "\n",
    "We've explored hypothesis tests in this class before. Taking advantage of our computing power, we don't have to rely on test statistics with asymptotic distributions. Let's conduct a more direct hypothesis test using simulation. Recall:\n",
    "\n",
    "$$\n",
    "H_0: \\lambda = 3\n",
    "$$\n",
    "\n",
    "$$\n",
    "H_1: \\lambda \\neq 3\n",
    "$$\n",
    "\n",
    "Pick a different test statistic. Obtain an empirical distribution of that test statistic under $H_0$. Next, find the $p$-value by determining how often this test statistic is at or further away from the test statistic derived from the sample. Remember that this is a two-sided test. "
   ]
  },
  {
   "cell_type": "code",
   "execution_count": 72,
   "metadata": {},
   "outputs": [
    {
     "name": "stdout",
     "output_type": "stream",
     "text": [
      "P-Value equals: \n",
      "0.0003\n"
     ]
    },
    {
     "data": {
      "text/plain": [
       "(array([1.320e+02, 1.114e+03, 2.829e+03, 3.019e+03, 1.758e+03, 7.750e+02,\n",
       "        2.680e+02, 8.300e+01, 1.900e+01, 3.000e+00]),\n",
       " array([-1.09618706, -0.7570177 , -0.41784834, -0.07867897,  0.26049039,\n",
       "         0.59965975,  0.93882912,  1.27799848,  1.61716784,  1.95633721,\n",
       "         2.29550657]),\n",
       " <a list of 10 Patch objects>)"
      ]
     },
     "execution_count": 72,
     "metadata": {},
     "output_type": "execute_result"
    },
    {
     "data": {
      "image/png": "[encoded data removed]",
      "text/plain": [
       "<Figure size 432x288 with 1 Axes>"
      ]
     },
     "metadata": {},
     "output_type": "display_data"
    }
   ],
   "source": [
    "n=50\n",
    "ts1=[]\n",
    "\n",
    "for i in np.arange(10000):\n",
    "    sample1=stats.expon.rvs(scale=1/3,size=n)\n",
    "    tStat=(1/np.mean(sample1))-3\n",
    "    ts1=np.append(ts1,tStat)\n",
    "\n",
    "sampleTest=(1/np.mean(my_data))-3\n",
    "\n",
    "print('P-Value equals: ')\n",
    "print(np.mean(ts1>=sampleTest)+np.mean(ts1<=-sampleTest))\n",
    "plt.hist(ts1)"
   ]
  },
  {
   "cell_type": "markdown",
   "metadata": {},
   "source": [
    "How did the $p$-value compare to the LRT $p$-value? I wonder how the power of this test compares to our LRT. "
   ]
  },
  {
   "cell_type": "markdown",
   "metadata": {},
   "source": [
    "#### Power\n",
    "\n",
    "Let's figure out the power of this test. First, determine for what values of the test statistic would lead us to reject $H_0$. These values can be referred to as your rejection region. "
   ]
  },
  {
   "cell_type": "code",
   "execution_count": 51,
   "metadata": {},
   "outputs": [
    {
     "name": "stdout",
     "output_type": "stream",
     "text": [
      "Values outside of this interval will cause H_0 to be rejected given an alpha value of 0.05:\n",
      "-0.972475855822178\n",
      "1.9290818272254238\n"
     ]
    }
   ],
   "source": [
    "print('Values outside of this interval will cause H_0 to be rejected given an alpha value of 0.05 for n = 20:')\n",
    "print(np.percentile(ts1,2.5))\n",
    "print(np.percentile(ts1,97.5))"
   ]
  },
  {
   "cell_type": "code",
   "execution_count": 77,
   "metadata": {},
   "outputs": [
    {
     "name": "stdout",
     "output_type": "stream",
     "text": [
      "Values outside of this interval will cause H_0 to be rejected given an alpha value of 0.05 for n = 50:\n",
      "-0.6916795445449857\n",
      "1.0487750942070322\n"
     ]
    }
   ],
   "source": [
    "print('Values outside of this interval will cause H_0 to be rejected given an alpha value of 0.05 for n = 50:')\n",
    "print(np.percentile(ts1,2.5))\n",
    "print(np.percentile(ts1,97.5))"
   ]
  },
  {
   "cell_type": "markdown",
   "metadata": {},
   "source": [
    "Now, determine the power of this test. Like in the LRT case, obtain a sample of size 20 and obtain the test statistic. Repeat many times and see how often your test statistic is in your rejection region. "
   ]
  },
  {
   "cell_type": "code",
   "execution_count": 71,
   "metadata": {},
   "outputs": [
    {
     "data": {
      "text/plain": [
       "0.5574"
      ]
     },
     "execution_count": 71,
     "metadata": {},
     "output_type": "execute_result"
    }
   ],
   "source": [
    "ts=[]\n",
    "n=20\n",
    "\n",
    "for i in np.arange(10000):\n",
    "    sample=stats.expon.rvs(scale=1/5,size=n)\n",
    "    test_stat=(1/np.mean(sample))-3\n",
    "    ts=np.append(ts,test_stat)\n",
    "\n",
    "np.mean(ts>=np.percentile(ts1,97.5))+np.mean(ts<=np.percentile(ts1,2.5))"
   ]
  },
  {
   "cell_type": "markdown",
   "metadata": {},
   "source": [
    "Repeat for a sample size of 50. Note that you will have to obtain new critical values in order to do this.  "
   ]
  },
  {
   "cell_type": "code",
   "execution_count": 84,
   "metadata": {},
   "outputs": [
    {
     "data": {
      "text/plain": [
       "0.9679"
      ]
     },
     "execution_count": 84,
     "metadata": {},
     "output_type": "execute_result"
    }
   ],
   "source": [
    "ts=[]\n",
    "n=50\n",
    "\n",
    "for i in np.arange(10000):\n",
    "    sample=stats.expon.rvs(scale=1/5,size=n)\n",
    "    test_stat=(1/np.mean(sample))-3\n",
    "    ts=np.append(ts,test_stat)\n",
    "    \n",
    "np.mean(ts>=upper50)+np.mean(ts1<=lower50)"
   ]
  },
  {
   "cell_type": "code",
   "execution_count": null,
   "metadata": {},
   "outputs": [],
   "source": []
  }
 ],
 "metadata": {
  "kernelspec": {
   "display_name": "Python 3",
   "language": "python",
   "name": "python3"
  },
  "language_info": {
   "codemirror_mode": {
    "name": "ipython",
    "version": 3
   },
   "file_extension": ".py",
   "mimetype": "text/x-python",
   "name": "python",
   "nbconvert_exporter": "python",
   "pygments_lexer": "ipython3",
   "version": "3.6.5"
  }
 },
 "nbformat": 4,
 "nbformat_minor": 2
}
