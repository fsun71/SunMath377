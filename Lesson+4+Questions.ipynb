{
 "cells": [
  {
   "cell_type": "markdown",
   "metadata": {},
   "source": [
    "# Lesson 4 Questions"
   ]
  },
  {
   "cell_type": "code",
   "execution_count": 3,
   "metadata": {},
   "outputs": [
    {
     "name": "stdout",
     "output_type": "stream",
     "text": [
      "I am Franklin Sun. I am 19 years old. I'm from Springfield, NJ.\n",
      "franklin sun\n",
      "Franklin Sun\n"
     ]
    }
   ],
   "source": [
    "#Question 1\n",
    "\n",
    "#My name, age, and hometown are defined, and string addition is demonstrated\n",
    "name='Franklin Sun'\n",
    "age=19\n",
    "hometown='Springfield, NJ'\n",
    "intro='I am '+name+'. I am '+str(age)+' years old. I\\'m from '+hometown+'.'\n",
    "print(intro)\n",
    "\n",
    "#Name is changed to lowercase and then title case\n",
    "lName=name.lower()\n",
    "print(lName)\n",
    "\n",
    "pName=lName.title()\n",
    "print(pName)"
   ]
  },
  {
   "cell_type": "code",
   "execution_count": 17,
   "metadata": {},
   "outputs": [
    {
     "name": "stdout",
     "output_type": "stream",
     "text": [
      "He is Franklin Sun. He is 19 years old. He's from Springfield, NJ.\n"
     ]
    }
   ],
   "source": [
    "#Question 2\n",
    "\n",
    "#All instances of 'I am' and 'He is' is replaced with 'He is' and 'He's' in the string intro\n",
    "replIntro=intro.replace('I am ','He is ').replace('I\\'m','He\\'s')\n",
    "print(replIntro)"
   ]
  },
  {
   "cell_type": "code",
   "execution_count": 4,
   "metadata": {},
   "outputs": [
    {
     "data": {
      "text/plain": [
       "True"
      ]
     },
     "execution_count": 4,
     "metadata": {},
     "output_type": "execute_result"
    }
   ],
   "source": [
    "#Question 3\n",
    "\n",
    "#It is checked to see if the length of the string intro is longer than the value of my age plus 40\n",
    "len(intro)>(40+age)"
   ]
  },
  {
   "cell_type": "code",
   "execution_count": null,
   "metadata": {
    "collapsed": true
   },
   "outputs": [],
   "source": []
  }
 ],
 "metadata": {
  "kernelspec": {
   "display_name": "Python 3",
   "language": "python",
   "name": "python3"
  },
  "language_info": {
   "codemirror_mode": {
    "name": "ipython",
    "version": 3
   },
   "file_extension": ".py",
   "mimetype": "text/x-python",
   "name": "python",
   "nbconvert_exporter": "python",
   "pygments_lexer": "ipython3",
   "version": "3.6.3"
  }
 },
 "nbformat": 4,
 "nbformat_minor": 2
}
