{
 "cells": [
  {
   "cell_type": "code",
   "execution_count": 13,
   "metadata": {
    "collapsed": true
   },
   "outputs": [],
   "source": [
    "from datascience import *\n",
    "import numpy as np\n",
    "from math import *"
   ]
  },
  {
   "cell_type": "markdown",
   "metadata": {},
   "source": [
    "## Joint Distributions"
   ]
  },
  {
   "cell_type": "markdown",
   "metadata": {},
   "source": [
    "Recall from Lessons 13 & 14: let $X$ be a random variable. $X$ has a distribution that is described by a probability mass function (pmf) or probability density function (pdf). \n",
    "\n",
    "We can consider multiple random variables simultaneously using joint distributions. \n",
    "\n",
    "NOTE: When answering the questions below, you are not required to use Python. If you would like to answer in Markdown, feel free to change the type of the cell, or to use both types of cells. "
   ]
  },
  {
   "cell_type": "markdown",
   "metadata": {},
   "source": [
    "#### Example 1: Discrete Joint Distribution"
   ]
  },
  {
   "cell_type": "markdown",
   "metadata": {},
   "source": [
    "Let $X$ and $Y$ be discrete random variables that can each only take the values 0, 1 or 2, and do so according to the following distribution:"
   ]
  },
  {
   "cell_type": "markdown",
   "metadata": {},
   "source": [
    "\n",
    " |  | $X$  | 1 | 2 | 3 |\n",
    " |-- | ------ | ------ |\n",
    " |  | 1 | 0.17 | 0.15 | 0.08 |\n",
    " | $Y$ | 2 | 0.00 | 0.10 | 0.10 |\n",
    " |  | 3 | 0.08 | 0.20 | 0.12 |\n",
    " \n"
   ]
  },
  {
   "cell_type": "markdown",
   "metadata": {},
   "source": [
    "This is an example of a joint probability mass function (joint pmf), and is denoted as $f_{X,Y}(x,y)$. \n",
    "\n",
    "For example, the probability that $X$ takes the value 1 AND $Y$ takes the value 3, or $P(X=1,Y=3)$ is equal to 0.08. "
   ]
  },
  {
   "cell_type": "markdown",
   "metadata": {},
   "source": [
    "**_1.1_** Find $P(X = 2,Y=3)$. \n",
    "\n",
    "**_1.2_** Find $E(X+Y)$. "
   ]
  },
  {
   "cell_type": "code",
   "execution_count": 9,
   "metadata": {},
   "outputs": [
    {
     "name": "stdout",
     "output_type": "stream",
     "text": [
      "P(X = 2,Y=3): 0.2\n",
      "E(X+Y): 4.05\n"
     ]
    }
   ],
   "source": [
    "print('P(X = 2,Y=3):',0.20)\n",
    "\n",
    "print('E(X+Y):',(2*0.17)+(3*(0.15))+(4*(0.26))+(5*(0.3))+(6*0.12))"
   ]
  },
  {
   "cell_type": "markdown",
   "metadata": {},
   "source": [
    "### Marginal Probability"
   ]
  },
  {
   "cell_type": "markdown",
   "metadata": {},
   "source": [
    "When given a joint pmf like this, we may want to know the distribution of $X$ or $Y$ individually. Specifically, we might want to know $P(X=1)$ or $f_Y(y)$. \n",
    "\n",
    "Marginal probability can be found by summing across the remaining variable. Specifically,\n",
    "\n",
    "$$\n",
    "f_X(x)=\\sum_y f_{X,Y}(x,y)\n",
    "$$\n",
    "and \n",
    "$$\n",
    "f_Y(y)=\\sum_x f_{X,Y}(x,y)\n",
    "$$\n"
   ]
  },
  {
   "cell_type": "markdown",
   "metadata": {},
   "source": [
    "**_1.3_** Find $P(X=2)$. \n",
    "\n",
    "**_1.4_** Find $f_Y(y)$ (the marginal pmf of $Y$). \n",
    "\n",
    "**_1.5_** Find $E(Y)$ and $V(Y)$. "
   ]
  },
  {
   "cell_type": "code",
   "execution_count": 10,
   "metadata": {},
   "outputs": [
    {
     "name": "stdout",
     "output_type": "stream",
     "text": [
      "P(X=2): 0.45\n"
     ]
    }
   ],
   "source": [
    "print('P(X=2):',0.15+0.10+0.20)"
   ]
  },
  {
   "cell_type": "code",
   "execution_count": 22,
   "metadata": {
    "scrolled": true
   },
   "outputs": [
    {
     "name": "stdout",
     "output_type": "stream",
     "text": [
      "y=1: 0.4\n",
      "y=2: 0.6\n",
      "y=3: 1.0\n"
     ]
    }
   ],
   "source": [
    "print('y=1:',(0.17+0.08+0.15))\n",
    "print('y=2:',round((0.17+0.08+0.15)+(0.1+0.1),4))\n",
    "print('y=3:',(0.17+0.08+0.15)+(0.1+0.1)+(0.08+0.20+0.12))"
   ]
  },
  {
   "cell_type": "code",
   "execution_count": 34,
   "metadata": {},
   "outputs": [
    {
     "name": "stdout",
     "output_type": "stream",
     "text": [
      "E(Y): 2.0\n",
      "V(Y): 1.667\n"
     ]
    }
   ],
   "source": [
    "print('E(Y):',(0.17+0.08+0.15)+2*(0.1+0.1)+3*(0.08+0.20+0.12))\n",
    "\n",
    "print('V(Y):',round(((1-2)**2)/3+((3-1)**2)/3,3))"
   ]
  },
  {
   "cell_type": "markdown",
   "metadata": {},
   "source": [
    "### Conditional Probability\n",
    "\n",
    "We may be interested in the probability $X$ takes a specific value conditioned on the value of $Y$. Recall that conditional probability is given by $P(A|B)=\\frac{P(A,B)}{P(B)}$. \n",
    "\n",
    "So, essentially, conditional probability can be found by dividing the joint probability by the appropriate marginal probability. "
   ]
  },
  {
   "cell_type": "markdown",
   "metadata": {},
   "source": [
    "**_1.6_** Find $P(Y=1|X=3)$. \n",
    "\n",
    "**_1.7_** Find $f_{X|Y=2}(x)$, the conditional pmf of $X$, given $Y=2$. \n",
    "\n",
    "**_1.8_** Find $E(X|Y=2)$ and $V(X|Y=2)$. \n",
    "\n",
    "\n",
    " |  | $X$  | 1 | 2 | 3 |\n",
    " |-- | ------ | ------ |\n",
    " |  | 1 | 0.17 | 0.15 | 0.08 |\n",
    " | $Y$ | 2 | 0.00 | 0.10 | 0.10 |\n",
    " |  | 3 | 0.08 | 0.20 | 0.12 |\n",
    " \n"
   ]
  },
  {
   "cell_type": "code",
   "execution_count": 40,
   "metadata": {
    "scrolled": true
   },
   "outputs": [
    {
     "name": "stdout",
     "output_type": "stream",
     "text": [
      "P(Y=1|X=3): 0.4\n"
     ]
    }
   ],
   "source": [
    "print('P(Y=1|X=3):',round((0.08/0.2),4))"
   ]
  },
  {
   "cell_type": "code",
   "execution_count": 48,
   "metadata": {},
   "outputs": [
    {
     "name": "stdout",
     "output_type": "stream",
     "text": [
      "X=1|Y=2: 0\n",
      "X=2|Y=2: 0.5\n",
      "X=3|Y=2: 0.5\n"
     ]
    }
   ],
   "source": [
    "print('X=1|Y=2:',0)\n",
    "print('X=2|Y=2:',0.1/0.2)\n",
    "print('X=3|Y=2:',0.1/0.2)"
   ]
  },
  {
   "cell_type": "code",
   "execution_count": 51,
   "metadata": {},
   "outputs": [
    {
     "name": "stdout",
     "output_type": "stream",
     "text": [
      "E(X|Y)=2: 2.5\n",
      "V(X|Y)=2: 0.917\n"
     ]
    }
   ],
   "source": [
    "print('E(X|Y)=2:',1*0+2*0.5+3*0.5)\n",
    "print('V(X|Y)=2:',round(((1-2.5)**2+(2-2.5)**2+(3-2.5)**2)/3,3))"
   ]
  },
  {
   "cell_type": "markdown",
   "metadata": {},
   "source": [
    "**_1.9_** Are $X$ and $Y$ independent? Why or why not? "
   ]
  },
  {
   "cell_type": "code",
   "execution_count": 8,
   "metadata": {},
   "outputs": [
    {
     "name": "stdout",
     "output_type": "stream",
     "text": [
      "P(X=1 & Y=1): 0.17\n",
      "P(X=1): 0.25\n",
      "P(Y=1): 0.4\n",
      "P(X=1*Y=1): 0.1\n",
      "P(X=1)*P(Y=1) does not equal P(X=1 & Y=1), X and Y not independent\n"
     ]
    }
   ],
   "source": [
    "print('P(X=1 & Y=1):',0.17)\n",
    "print('P(X=1):',0.25)\n",
    "print('P(Y=1):',0.4)\n",
    "print('P(X=1*Y=1):',0.1)\n",
    "print('P(X=1)*P(Y=1) does not equal P(X=1 & Y=1), X and Y not independent')"
   ]
  },
  {
   "cell_type": "markdown",
   "metadata": {},
   "source": [
    "### Covariance and Correlation\n",
    "\n",
    "Expected value and variance help us characterize $X$ and $Y$ marginally and conditionally, but we may also be interested in measuring the relationship between $X$ and $Y$. For this, we use *covariance*. \n",
    "\n",
    "$$\n",
    "Cov(X,Y)=E[(X-E(X))(Y-E(Y))] = E(XY)-E(X)E(Y)\n",
    "$$\n",
    "\n",
    "Note that if $X$ and $Y$ are independent, $Cov(X,Y) =0$. The converse is NOT necessarily true. \n",
    "\n",
    "Covariance is dependent on the scales of $X$ and $Y$, so if the two variables are of vastly different scale, we'll want to use covariance's unitless counterpart, correlation, denoted by $\\rho$. \n",
    "\n",
    "$$\n",
    "\\rho = \\frac{Cov(X,Y)}{\\sqrt{Var(X)Var(Y)}}\n",
    "$$\n",
    "\n",
    "$\\rho$ is bounded by the interval $[-1,1]$. When $\\rho=1$, $X$ and $Y$ are perfectly positively correlated. Similarly, when $\\rho=-1$, $X$ and $Y$ are perfectly negatively correlated. \n",
    "\n",
    "\n",
    " |  | $X$  | 1 | 2 | 3 |\n",
    " |-- | ------ | ------ |\n",
    " |  | 1 | 0.17 | 0.15 | 0.08 |\n",
    " | $Y$ | 2 | 0.00 | 0.10 | 0.10 |\n",
    " |  | 3 | 0.08 | 0.20 | 0.12 |\n",
    " \n"
   ]
  },
  {
   "cell_type": "markdown",
   "metadata": {},
   "source": [
    "**_1.10_** Find $Cov(X,Y)$\n",
    "\n",
    "**_1.11_** Find $Corr(X,Y)$, or $\\rho$. "
   ]
  },
  {
   "cell_type": "code",
   "execution_count": 18,
   "metadata": {},
   "outputs": [
    {
     "name": "stdout",
     "output_type": "stream",
     "text": [
      "E(XY)= 4.23\n",
      "E(X)= 2.05\n",
      "E(Y)= 2.0\n",
      "Cov(X,Y)= E(XY)-E(X)E(Y)= 0.13\n"
     ]
    }
   ],
   "source": [
    "print('E(XY)=',1*0.17+2*0.15+3*(0.08+0.08)+4*0.10+6*(0.20+0.10)+9*0.12)\n",
    "print('E(X)=',(0.17+0.08)+2*(0.15+0.10+0.20)+3*(0.08+0.10+0.12))\n",
    "print('E(Y)=',(0.17+0.15+0.08)+2*(0.1+0.1)+3*(0.08+0.20+0.12))\n",
    "print('Cov(X,Y)= E(XY)-E(X)E(Y)=',round(4.23-(2.05*2.0),4))"
   ]
  },
  {
   "cell_type": "code",
   "execution_count": 30,
   "metadata": {},
   "outputs": [
    {
     "name": "stdout",
     "output_type": "stream",
     "text": [
      "Cov(X,Y)= 0.13\n",
      "V(X): 0.669\n",
      "V(Y): 0.667\n",
      "Correlation: 0.195\n"
     ]
    }
   ],
   "source": [
    "print('Cov(X,Y)=',0.13)\n",
    "print('V(X):',round(((1-2.05)**2)/3+((2-2.05)**2)/3+((3-2.05)**2)/3,3))\n",
    "print('V(Y):',round(((1-2)**2)/3+((3-2)**2)/3,3))\n",
    "print('Correlation:',round(0.13/((0.669*0.667)**0.5),3))"
   ]
  },
  {
   "cell_type": "markdown",
   "metadata": {},
   "source": [
    "In problem 1.2, we found $E(X+Y)$. In order to find $Var(X+Y)$, we need to know how $X$ and $Y$ are correlated: \n",
    "\n",
    "$$\n",
    "Var(X+Y)= Var(X)+Var(Y)+2*Cov(X,Y)\n",
    "$$"
   ]
  },
  {
   "cell_type": "markdown",
   "metadata": {},
   "source": [
    "**_1.12_** Find $Var(X+Y)$. "
   ]
  },
  {
   "cell_type": "code",
   "execution_count": 31,
   "metadata": {},
   "outputs": [
    {
     "name": "stdout",
     "output_type": "stream",
     "text": [
      "Var(X+Y)= 1.596\n"
     ]
    }
   ],
   "source": [
    "print('Var(X+Y)=',0.669+0.667+2*0.13)"
   ]
  },
  {
   "cell_type": "markdown",
   "metadata": {},
   "source": [
    "#### Example 2: Continuous Joint Distribution\n",
    "\n",
    "All of the concepts above apply to continuous random variables. Consider continuous random variables $X$ and $Y$ with the following joint pdf:\n",
    "\n",
    "$$\n",
    "f_{X,Y}(x,y)=k(x+y)\n",
    "$$\n",
    "\n",
    "where both $x$ and $y$ are bounded by the interval $[0,1]$. "
   ]
  },
  {
   "cell_type": "markdown",
   "metadata": {},
   "source": [
    "**_2.1_** Find the value of $k$ that makes $f$ a valid joint pdf. "
   ]
  },
  {
   "cell_type": "markdown",
   "metadata": {},
   "source": [
    "$$\n",
    "\\int_0^{1} \\int_0^{1} k(x+y)\\ dy\\ dx =k\\int_0^{1} \\frac{x^2}2\\ +y*x\\ dy\\bigg|_0^{1} = k\\int_0^{1} \\frac{1}2+y\\ dy\n",
    "$$\n",
    "\n",
    "$$\n",
    "k(\\frac{y}2+\\frac{y^2}2)\\ \\bigg|_0^{1} = 1\n",
    "$$\n",
    "\n",
    "Therefore, $k=1$"
   ]
  },
  {
   "cell_type": "markdown",
   "metadata": {},
   "source": [
    "**_2.2_** Find $P(X<0.5,Y<0.5)$"
   ]
  },
  {
   "cell_type": "markdown",
   "metadata": {},
   "source": [
    "$$cdf=\\int_0^{1} \\int_0^{1} (x+y)\\ dy\\ dx \\\\\\\\\\\\\\ P(X<0.5,Y<0.5)=0.125$$"
   ]
  },
  {
   "cell_type": "code",
   "execution_count": 58,
   "metadata": {},
   "outputs": [
    {
     "data": {
      "text/plain": [
       "0.125"
      ]
     },
     "execution_count": 58,
     "metadata": {},
     "output_type": "execute_result"
    }
   ],
   "source": [
    "from scipy import integrate\n",
    "f=lambda y,x: x+y\n",
    "integrate.dblquad(f, 0, 0.5, lambda x: 0, lambda x: 0.5)[0]"
   ]
  },
  {
   "cell_type": "markdown",
   "metadata": {},
   "source": [
    "**_2.3_** Find $f_X(x)$ and $f_Y(y)$, the marginal pdfs of $X$ and $Y$. \n",
    "\n",
    "**_2.4_** Find $E(X)$ and $E(Y)$. "
   ]
  },
  {
   "cell_type": "markdown",
   "metadata": {},
   "source": [
    "$$f_X(x)=\\int_0^{1} (x+y)\\ dx=x+\\frac{1}2$$\n",
    "$$f_Y(y)=\\int_0^{1} (x+y)\\ dy=y+\\frac{1}2$$"
   ]
  },
  {
   "cell_type": "markdown",
   "metadata": {},
   "source": [
    "$$E(X)=\\int_0^{1} x(x+\\frac{1}{2})\\ dx=\\frac{7}{12}$$\n",
    "$$E(Y)=\\int_0^{1} y(y+\\frac{1}{2})\\ dy=\\frac{7}{12}$$"
   ]
  },
  {
   "cell_type": "markdown",
   "metadata": {},
   "source": [
    "**_2.5_** Find $P(X>0.5\\vert Y\\leq 0.5)$. "
   ]
  },
  {
   "cell_type": "code",
   "execution_count": 69,
   "metadata": {},
   "outputs": [
    {
     "name": "stdout",
     "output_type": "stream",
     "text": [
      "2.4\n"
     ]
    }
   ],
   "source": [
    "from scipy import integrate\n",
    "f=lambda y,x: x+y\n",
    "g=lambda y:y**2+y/2\n",
    "a=integrate.dblquad(f, 0.5, 1, lambda x: 0, lambda x: 0.5)[0]\n",
    "b=integrate.quad(g,0,0.5)[0]\n",
    "print(round((a/b),4))"
   ]
  },
  {
   "cell_type": "markdown",
   "metadata": {},
   "source": [
    "**_2.6_** Find the conditional distributions of $X|Y$ and $Y|X$. Recall that conditional distributions can be found by dividing the joint pdf by the relevant marginal pdf. \n",
    "\n",
    "**_2.7_** Find $E(X|Y)$ and $E(Y|X)$."
   ]
  },
  {
   "cell_type": "markdown",
   "metadata": {},
   "source": [
    "$$(X|Y)=\\frac{(x+y)}{(y+1/2)}$$\n",
    "$$(Y|X)=\\frac{(x+y)}{(x+1/2)}$$"
   ]
  },
  {
   "cell_type": "markdown",
   "metadata": {},
   "source": [
    "$$E(X)=\\int_0^{1}\\int_0^{1} x^2*\\frac{(x+y)}{(y+1/2)} dy\\ dx=0.424884$$\n",
    "$$E(Y)=\\int_0^{1}\\int_0^{1} y^2*\\frac{(x+y)}{(y+1/2)} dx\\ dy=\\frac{1}{3}$$"
   ]
  },
  {
   "cell_type": "markdown",
   "metadata": {},
   "source": [
    "**_2.8_** Are $X$ and $Y$ independent? "
   ]
  },
  {
   "cell_type": "markdown",
   "metadata": {},
   "source": [
    "X and Y are not independent, P(A & B) != P(A)*P(B)"
   ]
  },
  {
   "cell_type": "markdown",
   "metadata": {},
   "source": [
    "**_2.9_** What is $Cov(X,Y)$? "
   ]
  },
  {
   "cell_type": "markdown",
   "metadata": {},
   "source": [
    "$$\n",
    "Cov(X,Y)=E[(X-E(X))(Y-E(Y))] = E(XY)-E(X)E(Y)\n",
    "$$"
   ]
  },
  {
   "cell_type": "code",
   "execution_count": 75,
   "metadata": {},
   "outputs": [
    {
     "name": "stdout",
     "output_type": "stream",
     "text": [
      "E(XY)= 0.3333333333333334\n",
      "E(X)*E(Y)= 0.34027777777777785\n",
      "Cov(X,Y)= -0.00694\n"
     ]
    }
   ],
   "source": [
    "from scipy import integrate\n",
    "f=lambda y,x: x*y*(x+y)\n",
    "a=integrate.dblquad(f, 0, 1, lambda x: 0, lambda x: 1)[0]\n",
    "\n",
    "print('E(XY)=',a)\n",
    "print('E(X)*E(Y)=',(7/12)**2)\n",
    "print('Cov(X,Y)=',round(a-((7/12)**2),5))"
   ]
  },
  {
   "cell_type": "code",
   "execution_count": null,
   "metadata": {
    "collapsed": true
   },
   "outputs": [],
   "source": []
  }
 ],
 "metadata": {
  "kernelspec": {
   "display_name": "Python 3",
   "language": "python",
   "name": "python3"
  },
  "language_info": {
   "codemirror_mode": {
    "name": "ipython",
    "version": 3
   },
   "file_extension": ".py",
   "mimetype": "text/x-python",
   "name": "python",
   "nbconvert_exporter": "python",
   "pygments_lexer": "ipython3",
   "version": "3.6.3"
  }
 },
 "nbformat": 4,
 "nbformat_minor": 2
}
